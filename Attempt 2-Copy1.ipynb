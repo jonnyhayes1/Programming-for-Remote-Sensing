{
 "cells": [
  {
   "cell_type": "code",
   "execution_count": 45,
   "id": "limited-pierce",
   "metadata": {},
   "outputs": [],
   "source": [
    "#Import Python Packages\n",
    "import os\n",
    "from glob import glob\n",
    "\n",
    "import matplotlib.pyplot as plt\n",
    "from matplotlib import patches as mpatches\n",
    "from matplotlib.colors import ListedColormap\n",
    "from matplotlib import colors\n",
    "import seaborn as sns\n",
    "import numpy as np\n",
    "import numpy.ma as ma\n",
    "from shapely.geometry import mapping, box\n",
    "import xarray as xr\n",
    "from rasterio.plot import plotting_extent\n",
    "import rioxarray as rxr\n",
    "import geopandas as gpd\n",
    "import earthpy as et\n",
    "import earthpy.spatial as es\n",
    "import earthpy.plot as ep\n",
    "import rasterio as rio\n"
   ]
  },
  {
   "cell_type": "code",
   "execution_count": 46,
   "id": "communist-military",
   "metadata": {},
   "outputs": [],
   "source": [
    "# Create the path to your data\n",
    "landsat_post_fire_path = os.path.join(\"Assignment\",\n",
    "                                      \"AfterFire\",\n",
    "                                      \"crop\")"
   ]
  },
  {
   "cell_type": "code",
   "execution_count": 47,
   "id": "gothic-holiday",
   "metadata": {},
   "outputs": [],
   "source": [
    "# Generate a list of jtif files\n",
    "post_fire_tifs_list = glob(os.path.join(landsat_post_fire_path,\n",
    "                                        \"Band*.tif\"))"
   ]
  },
  {
   "cell_type": "code",
   "execution_count": 48,
   "id": "overhead-thickness",
   "metadata": {},
   "outputs": [
    {
     "data": {
      "text/plain": [
       "[]"
      ]
     },
     "execution_count": 48,
     "metadata": {},
     "output_type": "execute_result"
    }
   ],
   "source": [
    "# Sort the data to ensure bands are in the correct order\n",
    "post_fire_tifs_list.sort()\n",
    "post_fire_tifs_list"
   ]
  },
  {
   "cell_type": "code",
   "execution_count": 54,
   "id": "wired-lancaster",
   "metadata": {},
   "outputs": [],
   "source": [
    "# Create an output array of all the landsat data stacked\n",
    "landsat_post_fire_path = os.path.join(\"Assignment\",\n",
    "                                      \"outputs\",\n",
    "                                      \"landsat_post_fire.tif\")"
   ]
  },
  {
   "cell_type": "code",
   "execution_count": 55,
   "id": "compound-grant",
   "metadata": {},
   "outputs": [],
   "source": [
    "def combine_tifs(tif_list):\n",
    "    \"\"\"A function that combines a list of tifs in the same CRS\n",
    "    and of the same extent into an xarray object\n",
    "\n",
    "    Parameters\n",
    "    ----------\n",
    "    tif_list : list\n",
    "        A list of paths to the tif files that you wish to combine.\n",
    "        \n",
    "    Returns\n",
    "    -------\n",
    "    An xarray object with all of the tif files in the listmerged into \n",
    "    a single object.\n",
    "\n",
    "    \"\"\"\n",
    "\n",
    "    out_xr=[]\n",
    "    for i, tif_path in enumerate(tif_list):\n",
    "        out_xr.append(rxr.open_rasterio(tif_path, masked=True).squeeze())\n",
    "        out_xr[i][\"band\"]=i+1\n",
    "     \n",
    "    return xr.concat(out_xr, dim=\"Band\") "
   ]
  },
  {
   "cell_type": "code",
   "execution_count": 69,
   "id": "essential-thesaurus",
   "metadata": {},
   "outputs": [
    {
     "ename": "NameError",
     "evalue": "name 'stack' is not defined",
     "output_type": "error",
     "traceback": [
      "\u001b[1;31m---------------------------------------------------------------------------\u001b[0m",
      "\u001b[1;31mNameError\u001b[0m                                 Traceback (most recent call last)",
      "\u001b[1;32m<ipython-input-69-cf2097f6d8b3>\u001b[0m in \u001b[0;36m<module>\u001b[1;34m\u001b[0m\n\u001b[0;32m      5\u001b[0m \u001b[0mplt\u001b[0m\u001b[1;33m.\u001b[0m\u001b[0mshow\u001b[0m\u001b[1;33m(\u001b[0m\u001b[1;33m)\u001b[0m\u001b[1;33m\u001b[0m\u001b[1;33m\u001b[0m\u001b[0m\n\u001b[0;32m      6\u001b[0m \u001b[1;33m\u001b[0m\u001b[0m\n\u001b[1;32m----> 7\u001b[1;33m \u001b[0mstack\u001b[0m\u001b[1;33m.\u001b[0m\u001b[0mappend\u001b[0m \u001b[1;33m(\u001b[0m\u001b[0mband5\u001b[0m\u001b[1;33m)\u001b[0m\u001b[1;33m\u001b[0m\u001b[1;33m\u001b[0m\u001b[0m\n\u001b[0m\u001b[0;32m      8\u001b[0m \u001b[1;33m\u001b[0m\u001b[0m\n",
      "\u001b[1;31mNameError\u001b[0m: name 'stack' is not defined"
     ]
    }
   ],
   "source": [
    "all_landsat_bands_path = glob(os.path.join(\"Assignment\",\n",
    "                                           \"AfterFire\",\n",
    "                                           \"crop\",\n",
    "                                           \"*band[5-7].tiff*\"))\n",
    "plt.show()\n",
    "\n",
    "stack.append (band5)\n",
    "                                                                "
   ]
  },
  {
   "cell_type": "code",
   "execution_count": 79,
   "id": "useful-evidence",
   "metadata": {},
   "outputs": [
    {
     "ename": "ValueError",
     "evalue": "must supply at least one object to concatenate",
     "output_type": "error",
     "traceback": [
      "\u001b[1;31m---------------------------------------------------------------------------\u001b[0m",
      "\u001b[1;31mStopIteration\u001b[0m                             Traceback (most recent call last)",
      "\u001b[1;32m~\\anaconda3\\envs\\egm722\\lib\\site-packages\\xarray\\core\\concat.py\u001b[0m in \u001b[0;36mconcat\u001b[1;34m(objs, dim, data_vars, coords, compat, positions, fill_value, join, combine_attrs)\u001b[0m\n\u001b[0;32m    219\u001b[0m     \u001b[1;32mtry\u001b[0m\u001b[1;33m:\u001b[0m\u001b[1;33m\u001b[0m\u001b[1;33m\u001b[0m\u001b[0m\n\u001b[1;32m--> 220\u001b[1;33m         \u001b[0mfirst_obj\u001b[0m\u001b[1;33m,\u001b[0m \u001b[0mobjs\u001b[0m \u001b[1;33m=\u001b[0m \u001b[0mutils\u001b[0m\u001b[1;33m.\u001b[0m\u001b[0mpeek_at\u001b[0m\u001b[1;33m(\u001b[0m\u001b[0mobjs\u001b[0m\u001b[1;33m)\u001b[0m\u001b[1;33m\u001b[0m\u001b[1;33m\u001b[0m\u001b[0m\n\u001b[0m\u001b[0;32m    221\u001b[0m     \u001b[1;32mexcept\u001b[0m \u001b[0mStopIteration\u001b[0m\u001b[1;33m:\u001b[0m\u001b[1;33m\u001b[0m\u001b[1;33m\u001b[0m\u001b[0m\n",
      "\u001b[1;32m~\\anaconda3\\envs\\egm722\\lib\\site-packages\\xarray\\core\\utils.py\u001b[0m in \u001b[0;36mpeek_at\u001b[1;34m(iterable)\u001b[0m\n\u001b[0;32m    193\u001b[0m     \u001b[0mgen\u001b[0m \u001b[1;33m=\u001b[0m \u001b[0miter\u001b[0m\u001b[1;33m(\u001b[0m\u001b[0miterable\u001b[0m\u001b[1;33m)\u001b[0m\u001b[1;33m\u001b[0m\u001b[1;33m\u001b[0m\u001b[0m\n\u001b[1;32m--> 194\u001b[1;33m     \u001b[0mpeek\u001b[0m \u001b[1;33m=\u001b[0m \u001b[0mnext\u001b[0m\u001b[1;33m(\u001b[0m\u001b[0mgen\u001b[0m\u001b[1;33m)\u001b[0m\u001b[1;33m\u001b[0m\u001b[1;33m\u001b[0m\u001b[0m\n\u001b[0m\u001b[0;32m    195\u001b[0m     \u001b[1;32mreturn\u001b[0m \u001b[0mpeek\u001b[0m\u001b[1;33m,\u001b[0m \u001b[0mitertools\u001b[0m\u001b[1;33m.\u001b[0m\u001b[0mchain\u001b[0m\u001b[1;33m(\u001b[0m\u001b[1;33m[\u001b[0m\u001b[0mpeek\u001b[0m\u001b[1;33m]\u001b[0m\u001b[1;33m,\u001b[0m \u001b[0mgen\u001b[0m\u001b[1;33m)\u001b[0m\u001b[1;33m\u001b[0m\u001b[1;33m\u001b[0m\u001b[0m\n",
      "\u001b[1;31mStopIteration\u001b[0m: ",
      "\nDuring handling of the above exception, another exception occurred:\n",
      "\u001b[1;31mValueError\u001b[0m                                Traceback (most recent call last)",
      "\u001b[1;32m<ipython-input-79-a087ffbfd4f3>\u001b[0m in \u001b[0;36m<module>\u001b[1;34m\u001b[0m\n\u001b[0;32m     10\u001b[0m \u001b[0mall_landsat_bands_path\u001b[0m\u001b[1;33m.\u001b[0m\u001b[0msort\u001b[0m\u001b[1;33m(\u001b[0m\u001b[1;33m)\u001b[0m\u001b[1;33m\u001b[0m\u001b[1;33m\u001b[0m\u001b[0m\n\u001b[0;32m     11\u001b[0m \u001b[1;33m\u001b[0m\u001b[0m\n\u001b[1;32m---> 12\u001b[1;33m \u001b[0mlandsat_post_fire\u001b[0m \u001b[1;33m=\u001b[0m \u001b[0mcombine_tifs\u001b[0m\u001b[1;33m(\u001b[0m\u001b[0mall_landsat_bands_path\u001b[0m\u001b[1;33m)\u001b[0m\u001b[1;33m\u001b[0m\u001b[1;33m\u001b[0m\u001b[0m\n\u001b[0m\u001b[0;32m     13\u001b[0m \u001b[1;33m\u001b[0m\u001b[0m\n\u001b[0;32m     14\u001b[0m extent_landsat = plotting_extent(\n",
      "\u001b[1;32m<ipython-input-55-d57cd96b4a27>\u001b[0m in \u001b[0;36mcombine_tifs\u001b[1;34m(tif_list)\u001b[0m\n\u001b[0;32m     20\u001b[0m         \u001b[0mout_xr\u001b[0m\u001b[1;33m[\u001b[0m\u001b[0mi\u001b[0m\u001b[1;33m]\u001b[0m\u001b[1;33m[\u001b[0m\u001b[1;34m\"band\"\u001b[0m\u001b[1;33m]\u001b[0m\u001b[1;33m=\u001b[0m\u001b[0mi\u001b[0m\u001b[1;33m+\u001b[0m\u001b[1;36m1\u001b[0m\u001b[1;33m\u001b[0m\u001b[1;33m\u001b[0m\u001b[0m\n\u001b[0;32m     21\u001b[0m \u001b[1;33m\u001b[0m\u001b[0m\n\u001b[1;32m---> 22\u001b[1;33m     \u001b[1;32mreturn\u001b[0m \u001b[0mxr\u001b[0m\u001b[1;33m.\u001b[0m\u001b[0mconcat\u001b[0m\u001b[1;33m(\u001b[0m\u001b[0mout_xr\u001b[0m\u001b[1;33m,\u001b[0m \u001b[0mdim\u001b[0m\u001b[1;33m=\u001b[0m\u001b[1;34m\"Band\"\u001b[0m\u001b[1;33m)\u001b[0m\u001b[1;33m\u001b[0m\u001b[1;33m\u001b[0m\u001b[0m\n\u001b[0m",
      "\u001b[1;32m~\\anaconda3\\envs\\egm722\\lib\\site-packages\\xarray\\core\\concat.py\u001b[0m in \u001b[0;36mconcat\u001b[1;34m(objs, dim, data_vars, coords, compat, positions, fill_value, join, combine_attrs)\u001b[0m\n\u001b[0;32m    220\u001b[0m         \u001b[0mfirst_obj\u001b[0m\u001b[1;33m,\u001b[0m \u001b[0mobjs\u001b[0m \u001b[1;33m=\u001b[0m \u001b[0mutils\u001b[0m\u001b[1;33m.\u001b[0m\u001b[0mpeek_at\u001b[0m\u001b[1;33m(\u001b[0m\u001b[0mobjs\u001b[0m\u001b[1;33m)\u001b[0m\u001b[1;33m\u001b[0m\u001b[1;33m\u001b[0m\u001b[0m\n\u001b[0;32m    221\u001b[0m     \u001b[1;32mexcept\u001b[0m \u001b[0mStopIteration\u001b[0m\u001b[1;33m:\u001b[0m\u001b[1;33m\u001b[0m\u001b[1;33m\u001b[0m\u001b[0m\n\u001b[1;32m--> 222\u001b[1;33m         \u001b[1;32mraise\u001b[0m \u001b[0mValueError\u001b[0m\u001b[1;33m(\u001b[0m\u001b[1;34m\"must supply at least one object to concatenate\"\u001b[0m\u001b[1;33m)\u001b[0m\u001b[1;33m\u001b[0m\u001b[1;33m\u001b[0m\u001b[0m\n\u001b[0m\u001b[0;32m    223\u001b[0m \u001b[1;33m\u001b[0m\u001b[0m\n\u001b[0;32m    224\u001b[0m     \u001b[1;32mif\u001b[0m \u001b[0mcompat\u001b[0m \u001b[1;32mnot\u001b[0m \u001b[1;32min\u001b[0m \u001b[0m_VALID_COMPAT\u001b[0m\u001b[1;33m:\u001b[0m\u001b[1;33m\u001b[0m\u001b[1;33m\u001b[0m\u001b[0m\n",
      "\u001b[1;31mValueError\u001b[0m: must supply at least one object to concatenate"
     ]
    }
   ],
   "source": [
    "# Import and stack post fire Landsat data - notice you are only stacking bands 5-7\n",
    "all_landsat_bands_path = glob(os.path.join(\"Assignment\",\n",
    "                                           \"AfterFire\",\n",
    "                                           \"Composite_Image\",\n",
    "                                           \"CompositeImage.tif\"))\n",
    "plt.show()\n",
    "\n",
    "landsat_post_fire = ('Assignment\\AfterFire\\'Composite_Image\\CompositeImage.tif')\n",
    "\n",
    "all_landsat_bands_path.sort()\n",
    "\n",
    "landsat_post_fire = combine_tifs(all_landsat_bands_path)\n",
    "\n",
    "extent_landsat = plotting_extent(\n",
    "    landsat_post_fire[0].values, landsat_post_fire.rio.transform())\n",
    "\n",
    "landsat_post_fire\n",
    "\n",
    "\n",
    "\n"
   ]
  },
  {
   "cell_type": "code",
   "execution_count": 77,
   "id": "through-memorial",
   "metadata": {},
   "outputs": [],
   "source": [
    "# Open fire boundary layer and reproject it to match the Landsat data\n",
    "fire_boundary_path = os.path.join(\"FireShapefile\",\n",
    "                                  \"glassfire.shp\")\n",
    "\n",
    "fire_boundary = gpd.read_file(fire_boundary_path)\n",
    "\n"
   ]
  },
  {
   "cell_type": "code",
   "execution_count": 78,
   "id": "public-teach",
   "metadata": {},
   "outputs": [
    {
     "ename": "TypeError",
     "evalue": "unsupported operand type(s) for -: 'str' and 'str'",
     "output_type": "error",
     "traceback": [
      "\u001b[1;31m---------------------------------------------------------------------------\u001b[0m",
      "\u001b[1;31mTypeError\u001b[0m                                 Traceback (most recent call last)",
      "\u001b[1;32m<ipython-input-78-25ef8c9944ee>\u001b[0m in \u001b[0;36m<module>\u001b[1;34m\u001b[0m\n\u001b[0;32m      1\u001b[0m \u001b[1;31m# Calculate NBR & plot\u001b[0m\u001b[1;33m\u001b[0m\u001b[1;33m\u001b[0m\u001b[1;33m\u001b[0m\u001b[0m\n\u001b[0;32m      2\u001b[0m landsat_postfire_nbr = (\n\u001b[1;32m----> 3\u001b[1;33m     landsat_post_fire[0]-landsat_post_fire[2]) / (landsat_post_fire[0]+landsat_post_fire[2])\n\u001b[0m\u001b[0;32m      4\u001b[0m \u001b[1;33m\u001b[0m\u001b[0m\n\u001b[0;32m      5\u001b[0m \u001b[0mfig\u001b[0m\u001b[1;33m,\u001b[0m \u001b[0max\u001b[0m \u001b[1;33m=\u001b[0m \u001b[0mplt\u001b[0m\u001b[1;33m.\u001b[0m\u001b[0msubplots\u001b[0m\u001b[1;33m(\u001b[0m\u001b[0mfigsize\u001b[0m\u001b[1;33m=\u001b[0m\u001b[1;33m(\u001b[0m\u001b[1;36m12\u001b[0m\u001b[1;33m,\u001b[0m \u001b[1;36m6\u001b[0m\u001b[1;33m)\u001b[0m\u001b[1;33m)\u001b[0m\u001b[1;33m\u001b[0m\u001b[1;33m\u001b[0m\u001b[0m\n",
      "\u001b[1;31mTypeError\u001b[0m: unsupported operand type(s) for -: 'str' and 'str'"
     ]
    }
   ],
   "source": [
    "# Calculate NBR & plot\n",
    "landsat_postfire_nbr = (\n",
    "    landsat_post_fire[0]-landsat_post_fire[2]) / (landsat_post_fire[0]+landsat_post_fire[2])\n",
    "\n",
    "fig, ax = plt.subplots(figsize=(12, 6))\n",
    "\n",
    "ep.plot_bands(landsat_postfire_nbr,\n",
    "              cmap='PiYG',\n",
    "              vmin=-1,\n",
    "              vmax=1,\n",
    "              ax=ax,\n",
    "              extent=extent_landsat,\n",
    "              title=\"Landsat derived Normalized Burn Ratio\\n 23 July 2016 \\n Post Cold Springs Fire\")\n",
    "\n",
    "fire_bound_utmz13.plot(ax=ax,\n",
    "                       color='None',\n",
    "                       edgecolor='black',\n",
    "                       linewidth=2)\n",
    "plt.show()"
   ]
  },
  {
   "cell_type": "code",
   "execution_count": 37,
   "id": "addressed-fifty",
   "metadata": {},
   "outputs": [],
   "source": [
    "#PreFire NBR\n",
    "# Get list of all pre-cropped data and sort the data\n",
    "\n",
    "# Create the path to your data\n",
    "landsat_pre_fire_path = os.path.join(\"Assignment\",\n",
    "                                      \"BeforeFire\",\n",
    "                                      \"crop\")"
   ]
  },
  {
   "cell_type": "code",
   "execution_count": 38,
   "id": "planned-safety",
   "metadata": {},
   "outputs": [],
   "source": [
    "# Generate a list of jtif files\n",
    "pre_fire_tifs_list = glob(os.path.join(landsat_pre_fire_path,\n",
    "                                        \"*band*.tif\"))"
   ]
  },
  {
   "cell_type": "code",
   "execution_count": 39,
   "id": "martial-reconstruction",
   "metadata": {},
   "outputs": [],
   "source": [
    "# Import and stack post fire Landsat data - notice you are only stacking bands 5-7\n",
    "all_landsat_bands_path = glob(os.path.join(\"cold-springs-fire\",\n",
    "                                           \"landsat_collect\",\n",
    "                                           \"LC080340322016070701T1-SC20180214145604\",\n",
    "                                           \"crop\",\n",
    "                                           \"*band[5-7]*.tif\"))"
   ]
  },
  {
   "cell_type": "code",
   "execution_count": null,
   "id": "novel-builder",
   "metadata": {},
   "outputs": [],
   "source": [
    "all_landsat_bands_path.sort()\n",
    "\n",
    "landsat_pre_fire = combine_tifs(all_landsat_bands_path)\n",
    "\n",
    "extent_landsat = plotting_extent(\n",
    "    landsat_pre_fire[0].values, landsat_pre_fire.rio.transform())\n",
    "\n",
    "landsat_pre_fire"
   ]
  },
  {
   "cell_type": "code",
   "execution_count": null,
   "id": "disciplinary-trustee",
   "metadata": {},
   "outputs": [],
   "source": [
    "# Open fire boundary layer and reproject it to match the Landsat data\n",
    "fire_boundary_path = os.path.join(\"FireShapefile\",\n",
    "                                  \"glassfire.shp\")\n",
    "\n",
    "fire_boundary = gpd.read_file(fire_boundary_path)\n",
    "\n",
    "# If the CRS are not the same, be sure to reproject\n",
    "fire_bound_utmz13 = fire_boundary.to_crs(landsat_post_fire.rio.crs)"
   ]
  },
  {
   "cell_type": "code",
   "execution_count": null,
   "id": "minor-active",
   "metadata": {},
   "outputs": [],
   "source": [
    "# Calculate NBR & plot\n",
    "landsat_postfire_nbr = (\n",
    "    landsat_pre_fire[0]-landsat_pre_fire[2]) / (landsat_pre_fire[0]+landsat_pre_fire[2])\n",
    "\n",
    "fig, ax = plt.subplots(figsize=(12, 6))\n",
    "\n",
    "ep.plot_bands(landsat_postfire_nbr,\n",
    "              cmap='PiYG',\n",
    "              vmin=-1,\n",
    "              vmax=1,\n",
    "              ax=ax,\n",
    "              extent=extent_landsat,\n",
    "              title=\"Landsat derived Normalized Burn Ratio\\n Pre Glass Fire\")\n",
    "\n",
    "fire_bound_utmz13.plot(ax=ax,\n",
    "                       color='None',\n",
    "                       edgecolor='black',\n",
    "                       linewidth=2)\n",
    "plt.show()"
   ]
  },
  {
   "cell_type": "code",
   "execution_count": null,
   "id": "chicken-player",
   "metadata": {},
   "outputs": [],
   "source": [
    "# Are the before and after data the same shape?\n",
    "landsat_pre_fire.shape == landsat_post_fire.shape\n",
    "True"
   ]
  },
  {
   "cell_type": "code",
   "execution_count": null,
   "id": "textile-cedar",
   "metadata": {},
   "outputs": [],
   "source": [
    "dnbr_landsat = landsat_pre_fire - landsat_postfire_nbr\n",
    "dnbr_landsat"
   ]
  },
  {
   "cell_type": "code",
   "execution_count": 42,
   "id": "alert-library",
   "metadata": {},
   "outputs": [
    {
     "ename": "NameError",
     "evalue": "name 'dnbr_landsat' is not defined",
     "output_type": "error",
     "traceback": [
      "\u001b[1;31m---------------------------------------------------------------------------\u001b[0m",
      "\u001b[1;31mNameError\u001b[0m                                 Traceback (most recent call last)",
      "\u001b[1;32m<ipython-input-42-7e66750a334a>\u001b[0m in \u001b[0;36m<module>\u001b[1;34m\u001b[0m\n\u001b[0;32m      5\u001b[0m \u001b[1;33m\u001b[0m\u001b[0m\n\u001b[0;32m      6\u001b[0m dnbr_landsat_class = xr.apply_ufunc(np.digitize,\n\u001b[1;32m----> 7\u001b[1;33m                                     \u001b[0mdnbr_landsat\u001b[0m\u001b[1;33m,\u001b[0m\u001b[1;33m\u001b[0m\u001b[1;33m\u001b[0m\u001b[0m\n\u001b[0m\u001b[0;32m      8\u001b[0m                                     dnbr_class_bins)\n\u001b[0;32m      9\u001b[0m \u001b[0mdnbr_landsat_class\u001b[0m\u001b[1;33m\u001b[0m\u001b[1;33m\u001b[0m\u001b[0m\n",
      "\u001b[1;31mNameError\u001b[0m: name 'dnbr_landsat' is not defined"
     ]
    }
   ],
   "source": [
    "# Define dNBR classification bins\n",
    "dnbr_class_bins = [-np.inf, -.1, .1, .27, .66, np.inf]\n",
    "\n",
    "#dnbr_landsat_class = np.digitize(dnbr_landsat, dnbr_class_bins)\n",
    "\n",
    "dnbr_landsat_class = xr.apply_ufunc(np.digitize,\n",
    "                                    dnbr_landsat,\n",
    "                                    dnbr_class_bins)\n",
    "dnbr_landsat_class"
   ]
  },
  {
   "cell_type": "code",
   "execution_count": null,
   "id": "brave-utilization",
   "metadata": {},
   "outputs": [],
   "source": [
    "dnbr_cat_names = [\"Enhanced Regrowth\",\n",
    "                  \"Unburned\",\n",
    "                  \"Low Severity\",\n",
    "                  \"Moderate Severity\",\n",
    "                  \"High Severity\"]\n",
    "\n",
    "nbr_colors = [\"g\",\n",
    "              \"yellowgreen\",\n",
    "              \"peachpuff\",\n",
    "              \"coral\",\n",
    "              \"maroon\"]\n",
    "nbr_cmap = ListedColormap(nbr_colors)"
   ]
  },
  {
   "cell_type": "code",
   "execution_count": null,
   "id": "vocational-florence",
   "metadata": {},
   "outputs": [],
   "source": [
    "# Plot the data with a custom legend\n",
    "dnbr_landsat_class_plot = ma.masked_array(\n",
    "    dnbr_landsat_class.values, dnbr_landsat_class.isnull())\n",
    "\n",
    "fig, ax = plt.subplots(figsize=(10, 8))\n",
    "\n",
    "fire_bound_utmz13.plot(ax=ax,\n",
    "                       color='None',\n",
    "                       edgecolor='black',\n",
    "                       linewidth=2)\n",
    "\n",
    "classes = np.unique(dnbr_landsat_class_plot)\n",
    "classes = classes.tolist()[:5]\n",
    "\n",
    "ep.plot_bands(dnbr_landsat_class_plot,\n",
    "              cmap=nbr_cmap,\n",
    "              vmin=1,\n",
    "              vmax=5,\n",
    "              title=\"Landsat dNBR - Cold Spring Fire Site \\n June 22, 2016 - July 24, 2016\",\n",
    "              cbar=False,\n",
    "              scale=False,\n",
    "              extent=extent_landsat,\n",
    "              ax=ax)\n",
    "\n",
    "ep.draw_legend(im_ax=ax.get_images()[0],\n",
    "               classes=classes,\n",
    "               titles=dnbr_cat_names)\n",
    "\n",
    "plt.show()"
   ]
  }
 ],
 "metadata": {
  "kernelspec": {
   "display_name": "Python 3",
   "language": "python",
   "name": "python3"
  },
  "language_info": {
   "codemirror_mode": {
    "name": "ipython",
    "version": 3
   },
   "file_extension": ".py",
   "mimetype": "text/x-python",
   "name": "python",
   "nbconvert_exporter": "python",
   "pygments_lexer": "ipython3",
   "version": "3.8.8"
  }
 },
 "nbformat": 4,
 "nbformat_minor": 5
}
